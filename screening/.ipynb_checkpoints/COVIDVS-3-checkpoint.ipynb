{
 "cells": [
  {
   "cell_type": "markdown",
   "id": "95a57d71",
   "metadata": {},
   "source": [
    "# Virtual Screening for anti-SARS-CoV-2 drugs by COVIDVS"
   ]
  },
  {
   "cell_type": "markdown",
   "id": "4c2a3472",
   "metadata": {},
   "source": [
    "COVIDVS models are Chemprop models trained with anti-beta-coronavirus actives/inactives collected from published papers and fine-tuned with anti-SARS-CoV-2 actives/inactives."
   ]
  },
  {
   "cell_type": "markdown",
   "id": "ebc1985d",
   "metadata": {},
   "source": [
    "## Installation"
   ]
  },
  {
   "cell_type": "markdown",
   "id": "4ee9c28c",
   "metadata": {},
   "source": [
    "Requirement\n",
    "conda install -c conda-forge rdkit\n",
    "pip install git+https://github.com/bp-kelley/descriptastorus\n",
    "pip install chemprop\n",
    "model: download https://github.com/pkuwangsw/COVIDVS"
   ]
  },
  {
   "cell_type": "markdown",
   "id": "3e00b470",
   "metadata": {},
   "source": [
    "## Dataset"
   ]
  },
  {
   "cell_type": "markdown",
   "id": "f4231a29",
   "metadata": {},
   "source": [
    "traindata.csv: A set of inhibitors against HCoV-OC43, SARS-CoV and MERS-CoV collected from literatures. All the inhibitors were identified by screening libraries including FDA-approved drugs and pharmacologically active compounds. This primary training dataset (Training Set 1) contains 90 positive data and 1862 negative data."
   ]
  },
  {
   "cell_type": "markdown",
   "id": "8b1e47f5",
   "metadata": {},
   "source": [
    "testset.csv: This dataset (Test Set 1) was derived from Fine-tuning Set 1 by removing repeated molecules in Training Set 1."
   ]
  },
  {
   "cell_type": "markdown",
   "id": "def004af",
   "metadata": {},
   "source": [
    "finetunev1.csv: This dataset (Fine-tuning Set 1) contains 154 data collocted from literatures, including 70 positive data and 84 negative data. The molecular activities against SARS-CoV-2 of these molecules have been experimentally tested."
   ]
  },
  {
   "cell_type": "markdown",
   "id": "b81c3941",
   "metadata": {},
   "source": [
    "## Pretraining"
   ]
  },
  {
   "cell_type": "code",
   "execution_count": null,
   "id": "fd6fa29f",
   "metadata": {},
   "outputs": [],
   "source": [
    "python train.py --gpu 0 --data_path ./dataset/traindata.csv --features_path ./dataset/traindata-feat.npy --no_features_scaling --save_dir covidvs1/ --dataset_type classification --split_sizes 0.9 0.1 0.0 --num_folds 20 --config_path hyperopt_it20.json "
   ]
  },
  {
   "cell_type": "markdown",
   "id": "da60e7de",
   "metadata": {},
   "source": [
    "## Fine-tuning"
   ]
  },
  {
   "cell_type": "code",
   "execution_count": null,
   "id": "7fb02ab2",
   "metadata": {},
   "outputs": [],
   "source": [
    "python finetune.py --gpu 0 --data_path ../data/finetunev1.csv --features_path ./dataset/finetunev1-feat.npy --save_dir covidvs2/ --checkpoint_path covidvs1/fold_0/model_0/model.pt --split_sizes 0.9 0.1 0.0 --config_path hyperopt_it20.json --dataset_type classification --init_lr 1e-4 --batch_size 20 --epochs 30"
   ]
  },
  {
   "cell_type": "markdown",
   "id": "6a3f6b8f",
   "metadata": {},
   "source": [
    "## Prediction"
   ]
  },
  {
   "cell_type": "code",
   "execution_count": null,
   "id": "50824d76",
   "metadata": {},
   "outputs": [],
   "source": [
    "python predict.py --gpu 0 --test_path ./dataset/dataset.csv --features_path ./dataset/launched-feat.npy --preds_path preds_covidvs1_launched.csv --checkpoint_dir covidvs1/ --use_compound_names"
   ]
  },
  {
   "cell_type": "markdown",
   "id": "0ceaff0a",
   "metadata": {},
   "source": [
    "## Acknowledgement"
   ]
  },
  {
   "cell_type": "markdown",
   "id": "cbceee2b",
   "metadata": {},
   "source": [
    "This project incorporates code from the following repo:\n",
    "    https://github.com/pkuwangsw/COVIDVS"
   ]
  }
 ],
 "metadata": {
  "kernelspec": {
   "display_name": "Python 3 (ipykernel)",
   "language": "python",
   "name": "python3"
  },
  "language_info": {
   "codemirror_mode": {
    "name": "ipython",
    "version": 3
   },
   "file_extension": ".py",
   "mimetype": "text/x-python",
   "name": "python",
   "nbconvert_exporter": "python",
   "pygments_lexer": "ipython3",
   "version": "3.8.8"
  }
 },
 "nbformat": 4,
 "nbformat_minor": 5
}
