{
 "cells": [
  {
   "cell_type": "markdown",
   "id": "c40219cd",
   "metadata": {},
   "source": [
    "#  Drug Target Interaction Prediction by using DeepPurpose"
   ]
  },
  {
   "cell_type": "markdown",
   "id": "23b43a6f",
   "metadata": {},
   "source": [
    "DeepPurpose has provied the pretrained model by predicting the interaction between a target (SARS-CoV2 3CL Protease) and a list of repurposing drugs from a curated drug library of 81 antiviral drugs. The Binding Score is the Kd values. Results aggregated from five pretrained model on BindingDB dataset! The prediction can be carried out with only one line. "
   ]
  },
  {
   "cell_type": "markdown",
   "id": "38ab44af",
   "metadata": {},
   "source": [
    "## Installation"
   ]
  },
  {
   "cell_type": "code",
   "execution_count": null,
   "id": "1ffbb4b3",
   "metadata": {},
   "outputs": [],
   "source": [
    "pip\n",
    "conda create -n DeepPurpose python=3.6\n",
    "conda activate DeepPurpose\n",
    "conda install -c conda-forge rdkit\n",
    "conda install -c conda-forge notebook\n",
    "pip install git+https://github.com/bp-kelley/descriptastorus \n",
    "pip install DeepPurpose\n",
    "\n",
    "or  Build from Source\n",
    "\n",
    "git clone https://github.com/kexinhuang12345/DeepPurpose.git ## Download code repository\n",
    "cd DeepPurpose ## Change directory to DeepPurpose\n",
    "conda env create -f environment.yml  ## Build virtual environment with all packages installed using conda\n",
    "conda activate DeepPurpose ## Activate conda environment (use \"source activate DeepPurpose\" for anaconda 4.4 or earlier) \n",
    "jupyter notebook ## open the jupyter notebook with the conda env\n",
    "\n",
    "## run our code, e.g. click a file in the DEMO folder\n",
    "... ...\n",
    "\n",
    "conda deactivate ## when done, exit conda environment "
   ]
  },
  {
   "cell_type": "markdown",
   "id": "26e590fe",
   "metadata": {},
   "source": [
    "## Run"
   ]
  },
  {
   "cell_type": "code",
   "execution_count": null,
   "id": "55207f2c",
   "metadata": {},
   "outputs": [],
   "source": [
    "from DeepPurpose import oneliner\n",
    "from DeepPurpose.dataset import *\n",
    "oneliner.repurpose(*load_SARS_CoV2_Protease_3CL(), *load_antiviral_drugs(no_cid = True))"
   ]
  },
  {
   "cell_type": "markdown",
   "id": "83ff4364",
   "metadata": {},
   "source": [
    "## Acknowledgement"
   ]
  },
  {
   "cell_type": "code",
   "execution_count": null,
   "id": "ab0dd49f",
   "metadata": {},
   "outputs": [],
   "source": [
    "This project incorporates code from the following repo:\n",
    "     \n",
    "    https://github.com/kexinhuang12345/DeepPurpose\n",
    "    "
   ]
  }
 ],
 "metadata": {
  "kernelspec": {
   "display_name": "Python 3 (ipykernel)",
   "language": "python",
   "name": "python3"
  },
  "language_info": {
   "codemirror_mode": {
    "name": "ipython",
    "version": 3
   },
   "file_extension": ".py",
   "mimetype": "text/x-python",
   "name": "python",
   "nbconvert_exporter": "python",
   "pygments_lexer": "ipython3",
   "version": "3.8.8"
  }
 },
 "nbformat": 4,
 "nbformat_minor": 5
}
