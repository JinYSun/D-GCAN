{
 "cells": [
  {
   "cell_type": "markdown",
   "id": "c40219cd",
   "metadata": {},
   "source": [
    "#  Drug Target Interaction Prediction by using DeepPurpose"
   ]
  },
  {
   "cell_type": "markdown",
   "id": "23b43a6f",
   "metadata": {},
   "source": [
    "DeepPurpose has provied the convinient way for DTI prediction especially for SARS_CoV2_Protease. "
   ]
  },
  {
   "cell_type": "markdown",
   "id": "38ab44af",
   "metadata": {},
   "source": [
    "## Installation"
   ]
  },
  {
   "cell_type": "code",
   "execution_count": null,
   "id": "1ffbb4b3",
   "metadata": {},
   "outputs": [],
   "source": [
    "pip\n",
    "conda create -n DeepPurpose python=3.6\n",
    "conda activate DeepPurpose\n",
    "conda install -c conda-forge rdkit\n",
    "conda install -c conda-forge notebook\n",
    "pip install git+https://github.com/bp-kelley/descriptastorus \n",
    "pip install DeepPurpose\n",
    "\n",
    "or  Build from Source\n",
    "\n",
    "git clone https://github.com/kexinhuang12345/DeepPurpose.git ## Download code repository\n",
    "cd DeepPurpose ## Change directory to DeepPurpose\n",
    "conda env create -f environment.yml  ## Build virtual environment with all packages installed using conda\n",
    "conda activate DeepPurpose ## Activate conda environment (use \"source activate DeepPurpose\" for anaconda 4.4 or earlier) \n",
    "jupyter notebook ## open the jupyter notebook with the conda env\n",
    "\n",
    "## run our code, e.g. click a file in the DEMO folder\n",
    "... ...\n",
    "\n",
    "conda deactivate ## when done, exit conda environment "
   ]
  },
  {
   "cell_type": "markdown",
   "id": "26e590fe",
   "metadata": {},
   "source": [
    "## Run"
   ]
  },
  {
   "cell_type": "code",
   "execution_count": null,
   "id": "55207f2c",
   "metadata": {},
   "outputs": [],
   "source": [
    "import os\n",
    "os.chdir('../')\n",
    "from DeepPurpose import utils\n",
    "from DeepPurpose import DTI as models\n",
    "X_drug, X_target, y  = process_BindingDB(download_BindingDB(SAVE_PATH),\n",
    "                                        y = 'Kd', \n",
    "                                        binary = False, \n",
    "                                        convert_to_log = True)\n",
    "\n",
    "# Type in the encoding names for drug/protein.\n",
    "drug_encoding, target_encoding = 'MPNN', 'CNN'\n",
    "\n",
    "# Data processing, here we select cold protein split setup.\n",
    "train, val, test = data_process(X_drug, X_target, y, \n",
    "                                drug_encoding, target_encoding, \n",
    "                                split_method='cold_protein', \n",
    "                                frac=[0.7,0.1,0.2])\n",
    "\n",
    "# Generate new model using default parameters; also allow model tuning via input parameters.\n",
    "config = generate_config(drug_encoding, target_encoding, transformer_n_layer_target = 8)\n",
    "net = models.model_initialize(**config)\n",
    "\n",
    "# Train the new model.\n",
    "# Detailed output including a tidy table storing validation loss, metrics, AUC curves figures and etc. are stored in the ./result folder.\n",
    "net.train(train, val, test)\n",
    "\n",
    "# or simply load pretrained model from a model directory path or reproduced model name such as DeepDTA\n",
    "net = models.model_pretrained(MODEL_PATH_DIR or MODEL_NAME)\n",
    "\n",
    "X_repurpose, drug_name, drug_cid = load_broad_repurposing_hub(SAVE_PATH)\n",
    "target, target_name = load_SARS_CoV2_Protease_3CL()\n",
    "\n",
    "_ = models.virtual_screening(smiles, target, net, drug_name, target_name)"
   ]
  },
  {
   "cell_type": "markdown",
   "id": "bab0c86d",
   "metadata": {},
   "source": [
    "## Results"
   ]
  },
  {
   "cell_type": "code",
   "execution_count": null,
   "id": "1136255f",
   "metadata": {},
   "outputs": [],
   "source": [
    "+-------+-----------+------------------------+---------------+\n",
    "|  Rank | Drug Name |      Target Name       | Binding Score |\n",
    "+-------+-----------+------------------------+---------------+\n",
    "|   1   | Drug 4565 | SARS-CoV2 3CL Protease |      8.96     |\n",
    "|   2   | Drug 4570 | SARS-CoV2 3CL Protease |     12.42     |\n",
    "|   3   | Drug 3690 | SARS-CoV2 3CL Protease |     12.86     |\n",
    "|   4   | Drug 3068 | SARS-CoV2 3CL Protease |     13.36     |\n",
    "|   5   | Drug 8387 | SARS-CoV2 3CL Protease |     13.47     |\n",
    "|   6   | Drug 5176 | SARS-CoV2 3CL Protease |     14.47     |\n",
    "|   7   |  Drug 438 | SARS-CoV2 3CL Protease |     14.67     |\n",
    "|   8   | Drug 4507 | SARS-CoV2 3CL Protease |     16.11     |\n",
    "```\n",
    "```\n",
    "|  9978 | Drug 1377 | SARS-CoV2 3CL Protease |   460788.11   |\n",
    "|  9979 | Drug 3768 | SARS-CoV2 3CL Protease |   479737.13   |\n",
    "|  9980 | Drug 5106 | SARS-CoV2 3CL Protease |   485684.14   |\n",
    "|  9981 | Drug 3765 | SARS-CoV2 3CL Protease |   505994.35   |\n",
    "|  9982 | Drug 2207 | SARS-CoV2 3CL Protease |   510293.39   |\n",
    "|  9983 | Drug 1161 | SARS-CoV2 3CL Protease |   525921.93   |\n",
    "|  9984 | Drug 2477 | SARS-CoV2 3CL Protease |   533613.12   |\n",
    "|  9985 | Drug 3320 | SARS-CoV2 3CL Protease |   538902.46   |\n",
    "|  9986 | Drug 3783 | SARS-CoV2 3CL Protease |   542639.17   |\n",
    "|  9987 | Drug 4834 | SARS-CoV2 3CL Protease |   603510.00   |\n",
    "|  9988 | Drug 9653 | SARS-CoV2 3CL Protease |   611796.89   |\n",
    "|  9989 | Drug 6606 | SARS-CoV2 3CL Protease |   671138.31   |\n",
    "|  9990 |  Drug 160 | SARS-CoV2 3CL Protease |   697775.04   |\n",
    "|  9991 | Drug 3851 | SARS-CoV2 3CL Protease |   792134.96   |\n",
    "|  9992 | Drug 5208 | SARS-CoV2 3CL Protease |   832708.75   |\n",
    "|  9993 | Drug 2786 | SARS-CoV2 3CL Protease |   905739.10   |\n",
    "|  9994 | Drug 6612 | SARS-CoV2 3CL Protease |   968825.66   |\n",
    "|  9995 | Drug 6609 | SARS-CoV2 3CL Protease |   1088788.87  |\n",
    "|  9996 |  Drug 801 | SARS-CoV2 3CL Protease |   1186364.21  |\n",
    "|  9997 | Drug 3844 | SARS-CoV2 3CL Protease |   1199274.11  |\n",
    "|  9998 | Drug 3842 | SARS-CoV2 3CL Protease |   1559694.06  |\n",
    "|  9999 | Drug 4486 | SARS-CoV2 3CL Protease |   1619297.87  |\n",
    "| 10000 |  Drug 800 | SARS-CoV2 3CL Protease |   1623061.65  |\n",
    "+-------+-----------+------------------------+---------------+"
   ]
  },
  {
   "cell_type": "markdown",
   "id": "83ff4364",
   "metadata": {},
   "source": [
    "## Acknowledgement"
   ]
  },
  {
   "cell_type": "code",
   "execution_count": null,
   "id": "ab0dd49f",
   "metadata": {},
   "outputs": [],
   "source": [
    "This project incorporates code from the following repo:\n",
    "     \n",
    "    https://github.com/kexinhuang12345/DeepPurpose\n",
    "    "
   ]
  }
 ],
 "metadata": {
  "kernelspec": {
   "display_name": "Python 3 (ipykernel)",
   "language": "python",
   "name": "python3"
  },
  "language_info": {
   "codemirror_mode": {
    "name": "ipython",
    "version": 3
   },
   "file_extension": ".py",
   "mimetype": "text/x-python",
   "name": "python",
   "nbconvert_exporter": "python",
   "pygments_lexer": "ipython3",
   "version": "3.8.8"
  }
 },
 "nbformat": 4,
 "nbformat_minor": 5
}
